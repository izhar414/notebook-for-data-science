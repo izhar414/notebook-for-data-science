{
 "cells": [
  {
   "cell_type": "markdown",
   "id": "059b7173-76b8-42bf-b968-11cb6ca24b5d",
   "metadata": {},
   "source": [
    "# Data Science Tools and Ecosystem"
   ]
  },
  {
   "cell_type": "markdown",
   "id": "e9a23e5f-b532-4729-afb3-cf0f212c5e63",
   "metadata": {},
   "source": [
    "# Introduction\n",
    "\n",
    "In this notebook, we provide a comprehensive overview of the Data Science Tools and Ecosystem, summarizing key concepts and tools that are essential for data science projects.\n"
   ]
  },
  {
   "cell_type": "markdown",
   "id": "f01bbc35-9ef5-42fd-85eb-5f4da842716c",
   "metadata": {},
   "source": [
    "# Data Science Languages\n",
    "\n",
    "Some of the popular languages that Data Scientists use are:\n",
    "\n",
    "1. Python\n",
    "2. R\n",
    "3. SQL\n",
    "4. Julia\n",
    "5. Scala\n"
   ]
  },
  {
   "cell_type": "markdown",
   "id": "9edf1ceb-0cf5-40dc-8449-71d0b1f9c852",
   "metadata": {},
   "source": [
    "# Data Science Libraries\n",
    "\n",
    "Some of the commonly used libraries used by Data Scientists include:\n",
    "\n",
    "1. **NumPy** - Essential for numerical computing and handling arrays.\n",
    "2. **Pandas** - Provides data structures and functions needed to work on structured data seamlessly.\n",
    "3. **Matplotlib** - Used for creating static, interactive, and animated visualizations in Python.\n",
    "4. **SciPy** - Useful for scientific and technical computing with modules for optimization, integration, and more.\n",
    "5. **Scikit-learn** - Offers simple and efficient tools for data mining and data analysis.\n",
    "\n"
   ]
  },
  {
   "cell_type": "markdown",
   "id": "86b391ab-8513-4afd-80c5-b93b90e8f2ef",
   "metadata": {},
   "source": [
    "# Data Science Tools\n",
    "\n",
    "| Data Science Tools |\n",
    "|--------------------|\n",
    "| Jupyter Notebook   |\n",
    "| RStudio            |\n",
    "| Apache Zeppelin    |\n"
   ]
  },
  {
   "cell_type": "markdown",
   "id": "d09f0350-6001-4e27-80a9-215ae8ebe65b",
   "metadata": {},
   "source": [
    "# Introduction to Arithmetic Expressions\n",
    "\n",
    "### Below are a few examples of evaluating arithmetic expressions in Python.\n"
   ]
  },
  {
   "cell_type": "code",
   "execution_count": 1,
   "id": "9a098e9c-1a23-44dd-acf5-539e68323636",
   "metadata": {
    "tags": []
   },
   "outputs": [
    {
     "data": {
      "text/plain": [
       "17"
      ]
     },
     "execution_count": 1,
     "metadata": {},
     "output_type": "execute_result"
    }
   ],
   "source": [
    "# This is a simple arithmetic expression to multiply then add integers\n",
    "result = (3 * 4) + 5\n",
    "result\n"
   ]
  },
  {
   "cell_type": "code",
   "execution_count": 2,
   "id": "bed0f350-bf26-4902-8699-fe772a95e1aa",
   "metadata": {
    "tags": []
   },
   "outputs": [
    {
     "data": {
      "text/plain": [
       "3.3333333333333335"
      ]
     },
     "execution_count": 2,
     "metadata": {},
     "output_type": "execute_result"
    }
   ],
   "source": [
    "# This will convert 200 minutes to hours by dividing by 60\n",
    "minutes = 200\n",
    "hours = minutes / 60\n",
    "hours\n"
   ]
  },
  {
   "cell_type": "markdown",
   "id": "d5436571-909f-4217-9a85-d9ea8b7c4011",
   "metadata": {},
   "source": [
    "# Objectives\n",
    "\n",
    "**Objectives:**\n",
    "\n",
    "- List popular languages for Data Science\n",
    "- Identify common libraries used in Data Science\n",
    "- Describe various Data Science tools and their uses\n",
    "- Demonstrate basic arithmetic operations and conversions in Python\n",
    "- Understand and apply simple data manipulations\n"
   ]
  },
  {
   "cell_type": "markdown",
   "id": "8a6f3848-5acd-47ae-9fb7-6396d88e6a2b",
   "metadata": {},
   "source": [
    "## Author\n",
    "\n",
    "[zaryab ali akhtar]\n"
   ]
  },
  {
   "cell_type": "code",
   "execution_count": null,
   "id": "e4768025-6f75-4a5b-864f-0ee0ac3421d6",
   "metadata": {},
   "outputs": [],
   "source": []
  }
 ],
 "metadata": {
  "kernelspec": {
   "display_name": "Python",
   "language": "python",
   "name": "conda-env-python-py"
  },
  "language_info": {
   "codemirror_mode": {
    "name": "ipython",
    "version": 3
   },
   "file_extension": ".py",
   "mimetype": "text/x-python",
   "name": "python",
   "nbconvert_exporter": "python",
   "pygments_lexer": "ipython3",
   "version": "3.7.12"
  }
 },
 "nbformat": 4,
 "nbformat_minor": 5
}
